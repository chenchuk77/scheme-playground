{
 "cells": [
  {
   "cell_type": "markdown",
   "metadata": {},
   "source": [
    "# SICP-3.2.4 Digital circuit simulator"
   ]
  },
  {
   "cell_type": "markdown",
   "metadata": {},
   "source": [
    "## Event driven simulation"
   ]
  },
  {
   "cell_type": "markdown",
   "metadata": {},
   "source": [
    "### helper functions to validate signals"
   ]
  },
  {
   "cell_type": "code",
   "execution_count": 4,
   "metadata": {},
   "outputs": [
    {
     "data": {
      "text/plain": [
       "call-each"
      ]
     },
     "execution_count": 4,
     "metadata": {},
     "output_type": "execute_result"
    }
   ],
   "source": [
    "(define (logical-not s) \n",
    "  (cond ((= s 0) 1) \n",
    "        ((= s 1) 0) \n",
    "        (else (error \"Invalid signal\" s))))\n",
    "\n",
    "(define (logical-and s1 s2)\n",
    "  (cond((not(or (= s1 0) (= s1 1))) error \"Invalid signal\" s1 )\n",
    "       ((not(or (= s2 0) (= s2 1))) error \"Invalid signal\" s2 )\n",
    "        (else (and s1 s2))))    \n",
    "\n",
    "(define (logical-or s1 s2)\n",
    "  (cond((not(or (= s1 0) (= s1 1))) error \"Invalid signal\" s1 )\n",
    "       ((not(or (= s2 0) (= s2 1))) error \"Invalid signal\" s2 )\n",
    "        (else (or s1 s2))))    \n",
    "\n",
    "; define proc to call all procs in a given list\n",
    "(define (call-each procedures)\n",
    "  (if (null? procedures) \n",
    "    'done \n",
    "    (begin ((car procedures)) \n",
    "            (call-each (cdr procedures)))))\n"
   ]
  },
  {
   "cell_type": "code",
   "execution_count": null,
   "metadata": {},
   "outputs": [],
   "source": []
  },
  {
   "cell_type": "code",
   "execution_count": 5,
   "metadata": {},
   "outputs": [
    {
     "data": {
      "text/plain": [
       "make-wire"
      ]
     },
     "execution_count": 5,
     "metadata": {},
     "output_type": "execute_result"
    }
   ],
   "source": [
    "; wire object holds a signal\n",
    "; when signal changed - all actions get called\n",
    "\n",
    "(define (make-wire) \n",
    "  (let ((signal-value 0) (action-procedures '()))  ; init to 0 with empty actions list\n",
    "    (define (set-my-signal! new-value) \n",
    "      (if (not (= signal-value new-value)) \n",
    "          (begin (set! signal-value new-value) \n",
    "                 (call-each action-procedures)) \n",
    "          'done)) \n",
    "    (define (accept-action-procedure! proc)        ; add action to list\n",
    "      (set! action-procedures (cons proc action-procedures)) \n",
    "      (proc)) \n",
    "    (define (dispatch m) \n",
    "      (cond ((eq? m 'get-signal) signal-value) \n",
    "            ((eq? m 'set-signal!) set-my-signal!) \n",
    "            ((eq? m 'add-action!) accept-action-procedure!) \n",
    "            (else (error \"Unknown operation: WIRE\" m)))) \n",
    "    dispatch))\n"
   ]
  },
  {
   "cell_type": "code",
   "execution_count": 11,
   "metadata": {},
   "outputs": [
    {
     "data": {
      "text/plain": [
       "s"
      ]
     },
     "execution_count": 11,
     "metadata": {},
     "output_type": "execute_result"
    }
   ],
   "source": [
    "; create 6 wires for implementing half-adder\n",
    "(define a (make-wire)) \n",
    "(define b (make-wire)) \n",
    "(define c (make-wire)) \n",
    "(define d (make-wire)) \n",
    "(define e (make-wire)) \n",
    "(define s (make-wire))\n"
   ]
  },
  {
   "cell_type": "code",
   "execution_count": 14,
   "metadata": {},
   "outputs": [
    {
     "data": {
      "text/plain": [
       "add-action!"
      ]
     },
     "execution_count": 14,
     "metadata": {},
     "output_type": "execute_result"
    }
   ],
   "source": [
    "; syntactic sugar. call object method as a function call [ie: obj.do(); == do(obj); ]\n",
    "(define (get-signal wire) (wire 'get-signal)) \n",
    "(define (set-signal! wire new-value) ((wire 'set-signal!) new-value)) \n",
    "(define (add-action! wire action-procedure) ((wire 'add-action!) action-procedure))"
   ]
  },
  {
   "cell_type": "markdown",
   "metadata": {},
   "source": [
    "![title](img/logic-gates.png)"
   ]
  },
  {
   "cell_type": "code",
   "execution_count": 25,
   "metadata": {},
   "outputs": [
    {
     "data": {
      "text/plain": [
       "or-gate"
      ]
     },
     "execution_count": 25,
     "metadata": {},
     "output_type": "execute_result"
    }
   ],
   "source": [
    "; inverter accepts 2 wires, and creates invert-input function\n",
    "; that been added to the wire actions-list (connect to the wire)\n",
    "(define (inverter input output) \n",
    "  (define (invert-input) \n",
    "    (let ((new-value (logical-not (get-signal input))))\n",
    "      (after-delay inverter-delay \n",
    "        (lambda () \n",
    "          (set-signal! output new-value))))) \n",
    "  (add-action! input invert-input) 'ok) \n",
    "\n",
    "; and-gate accepts 3 wires, create action and bind to both input wires\n",
    "(define (and-gate a1 a2 output)\n",
    "  (define (and-action-procedure)\n",
    "    (let ((new-value (logical-and (get-signal a1) (get-signal a2))))\n",
    "      (after-delay and-gate-delay \n",
    "        (lambda () \n",
    "          (set-signal! output new-value)))))\n",
    "  (add-action! a1 and-action-procedure)\n",
    "  (add-action! a1 and-action-procedure)\n",
    "  'ok)\n",
    "\n",
    "; or-gate accepts 3 wires, create action and bind to both input wires\n",
    "(define (or-gate o1 o2 output)\n",
    "  (define (or-action-procedure)\n",
    "    (let ((new-value (logical-or (get-signal o1) (get-signal o2))))\n",
    "      (after-delay or-gate-delay \n",
    "        (lambda () \n",
    "          (set-signal! output new-value)))))\n",
    "  (add-action! o1 or-action-procedure)\n",
    "  (add-action! o2 or-action-procedure)\n",
    "  'ok)\n"
   ]
  },
  {
   "cell_type": "markdown",
   "metadata": {
    "collapsed": true
   },
   "source": [
    "![title](img/half-adder.png)"
   ]
  },
  {
   "cell_type": "code",
   "execution_count": 26,
   "metadata": {},
   "outputs": [
    {
     "ename": "unbound-variable",
     "evalue": "Unbound variable: or-gate-delay",
     "output_type": "error",
     "traceback": [
      "\u001b[31mUnbound variable: or-gate-delay\u001b[0m"
     ]
    }
   ],
   "source": [
    "; construction of gates, by providing wires as args\n",
    "(or-gate a b d)\n",
    "(and-gate a b c)\n",
    "(inverter c e)\n",
    "(and-gate d e s)\n"
   ]
  },
  {
   "cell_type": "code",
   "execution_count": 27,
   "metadata": {},
   "outputs": [
    {
     "data": {
      "text/plain": [
       "half-adder"
      ]
     },
     "execution_count": 27,
     "metadata": {},
     "output_type": "execute_result"
    }
   ],
   "source": [
    "(define (half-adder a b s c)\n",
    "  (let ((d (make-wire)) (e (make-wire)))\n",
    "    (or-gate a b d)\n",
    "    (and-gate a b c)\n",
    "    (inverter c e)\n",
    "    (and-gate d e s) 'ok))"
   ]
  },
  {
   "cell_type": "markdown",
   "metadata": {
    "collapsed": true
   },
   "source": [
    "![title](img/full-adder.png)"
   ]
  },
  {
   "cell_type": "code",
   "execution_count": 28,
   "metadata": {},
   "outputs": [
    {
     "data": {
      "text/plain": [
       "full-adder"
      ]
     },
     "execution_count": 28,
     "metadata": {},
     "output_type": "execute_result"
    }
   ],
   "source": [
    "(define (full-adder a b c-in sum c-out) \n",
    "  (let ((s (make-wire)) (c1 (make-wire)) (c2 (make-wire))) \n",
    "    (half-adder b c-in s c1) \n",
    "    (half-adder a s sum c2) \n",
    "    (or-gate c1 c2 c-out) 'ok))\n"
   ]
  },
  {
   "cell_type": "code",
   "execution_count": null,
   "metadata": {
    "collapsed": true
   },
   "outputs": [],
   "source": []
  },
  {
   "cell_type": "code",
   "execution_count": null,
   "metadata": {
    "collapsed": true
   },
   "outputs": [],
   "source": []
  },
  {
   "cell_type": "code",
   "execution_count": null,
   "metadata": {
    "collapsed": true
   },
   "outputs": [],
   "source": []
  }
 ],
 "metadata": {
  "kernelspec": {
   "display_name": "MIT Scheme",
   "language": "scheme",
   "name": "mit-scheme"
  },
  "language_info": {
   "codemirror_mode": "scheme",
   "file_extension": ".scm",
   "mimetype": "application/x-scheme",
   "name": "MIT Scheme",
   "pygments_lexer": "scheme",
   "version": "9.2.1"
  }
 },
 "nbformat": 4,
 "nbformat_minor": 2
}
